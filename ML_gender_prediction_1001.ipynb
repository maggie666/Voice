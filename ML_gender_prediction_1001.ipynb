{
 "cells": [
  {
   "cell_type": "markdown",
   "metadata": {},
   "source": [
    "# Ml model for Gender Prediciton"
   ]
  },
  {
   "cell_type": "markdown",
   "metadata": {},
   "source": [
    "## Dataset and Library Importation"
   ]
  },
  {
   "cell_type": "code",
   "execution_count": 75,
   "metadata": {},
   "outputs": [],
   "source": [
    "import pandas as pd\n",
    "from imblearn.over_sampling import SMOTE\n",
    "\n",
    "\n",
    "from sklearn.model_selection import train_test_split\n",
    "from sklearn.preprocessing import Imputer\n",
    "from sklearn.metrics import accuracy_score\n",
    "from sklearn.metrics import classification_report\n",
    "\n",
    "\n",
    "import xgboost as xgb\n",
    "from xgboost import plot_importance\n",
    "from matplotlib import pyplot\n"
   ]
  },
  {
   "cell_type": "code",
   "execution_count": null,
   "metadata": {},
   "outputs": [],
   "source": []
  },
  {
   "cell_type": "code",
   "execution_count": 76,
   "metadata": {},
   "outputs": [
    {
     "data": {
      "text/html": [
       "<div>\n",
       "<style scoped>\n",
       "    .dataframe tbody tr th:only-of-type {\n",
       "        vertical-align: middle;\n",
       "    }\n",
       "\n",
       "    .dataframe tbody tr th {\n",
       "        vertical-align: top;\n",
       "    }\n",
       "\n",
       "    .dataframe thead th {\n",
       "        text-align: right;\n",
       "    }\n",
       "</style>\n",
       "<table border=\"1\" class=\"dataframe\">\n",
       "  <thead>\n",
       "    <tr style=\"text-align: right;\">\n",
       "      <th></th>\n",
       "      <th>Unnamed: 0</th>\n",
       "      <th>filename</th>\n",
       "      <th>lawyer_male</th>\n",
       "      <th>percent</th>\n",
       "      <th>max</th>\n",
       "      <th>min</th>\n",
       "      <th>mean</th>\n",
       "      <th>median</th>\n",
       "      <th>stdev</th>\n",
       "      <th>min_in</th>\n",
       "      <th>...</th>\n",
       "      <th>q91</th>\n",
       "      <th>q92</th>\n",
       "      <th>q93</th>\n",
       "      <th>q94</th>\n",
       "      <th>q95</th>\n",
       "      <th>q96</th>\n",
       "      <th>q97</th>\n",
       "      <th>q98</th>\n",
       "      <th>q99</th>\n",
       "      <th>q100</th>\n",
       "    </tr>\n",
       "  </thead>\n",
       "  <tbody>\n",
       "    <tr>\n",
       "      <th>0</th>\n",
       "      <td>1</td>\n",
       "      <td>120222015200547280299</td>\n",
       "      <td>1</td>\n",
       "      <td>0.0</td>\n",
       "      <td>258.11872</td>\n",
       "      <td>105.42314</td>\n",
       "      <td>130.2302</td>\n",
       "      <td>124.03377</td>\n",
       "      <td>29.27223</td>\n",
       "      <td>21.75107</td>\n",
       "      <td>...</td>\n",
       "      <td>136.41411</td>\n",
       "      <td>137.44948</td>\n",
       "      <td>139.11002</td>\n",
       "      <td>150.97418</td>\n",
       "      <td>233.89897</td>\n",
       "      <td>242.42514</td>\n",
       "      <td>253.86877</td>\n",
       "      <td>255.11467</td>\n",
       "      <td>255.86677</td>\n",
       "      <td>259.05867</td>\n",
       "    </tr>\n",
       "    <tr>\n",
       "      <th>1</th>\n",
       "      <td>2</td>\n",
       "      <td>12022237318030335018</td>\n",
       "      <td>1</td>\n",
       "      <td>0.0</td>\n",
       "      <td>341.0521</td>\n",
       "      <td>174.30794</td>\n",
       "      <td>229.27221</td>\n",
       "      <td>222.32459</td>\n",
       "      <td>36.14343</td>\n",
       "      <td>28.10591</td>\n",
       "      <td>...</td>\n",
       "      <td>283.20606</td>\n",
       "      <td>284.65229</td>\n",
       "      <td>285.03504</td>\n",
       "      <td>285.14059</td>\n",
       "      <td>294.86228</td>\n",
       "      <td>306.1213</td>\n",
       "      <td>311.62433</td>\n",
       "      <td>318.55998</td>\n",
       "      <td>327.6212</td>\n",
       "      <td>344.57995</td>\n",
       "    </tr>\n",
       "    <tr>\n",
       "      <th>2</th>\n",
       "      <td>3</td>\n",
       "      <td>12022237340030114014</td>\n",
       "      <td>1</td>\n",
       "      <td>0.0</td>\n",
       "      <td>190.87783</td>\n",
       "      <td>81.00901</td>\n",
       "      <td>111.19673</td>\n",
       "      <td>108.17011</td>\n",
       "      <td>21.815</td>\n",
       "      <td>28.75928</td>\n",
       "      <td>...</td>\n",
       "      <td>139.80518</td>\n",
       "      <td>141.01955</td>\n",
       "      <td>146.64117</td>\n",
       "      <td>148.4232</td>\n",
       "      <td>150.16875</td>\n",
       "      <td>159.46629</td>\n",
       "      <td>173.48027</td>\n",
       "      <td>175.95107</td>\n",
       "      <td>182.00563</td>\n",
       "      <td>193.21693</td>\n",
       "    </tr>\n",
       "    <tr>\n",
       "      <th>3</th>\n",
       "      <td>4</td>\n",
       "      <td>12022237343030224016</td>\n",
       "      <td>1</td>\n",
       "      <td>0.0</td>\n",
       "      <td>133.90526</td>\n",
       "      <td>89.74382</td>\n",
       "      <td>108.61958</td>\n",
       "      <td>105.47788</td>\n",
       "      <td>11.86239</td>\n",
       "      <td>19.00371</td>\n",
       "      <td>...</td>\n",
       "      <td>128.21476</td>\n",
       "      <td>129.12292</td>\n",
       "      <td>130.28582</td>\n",
       "      <td>131.14202</td>\n",
       "      <td>131.73361</td>\n",
       "      <td>132.17219</td>\n",
       "      <td>132.43985</td>\n",
       "      <td>132.61862</td>\n",
       "      <td>132.68908</td>\n",
       "      <td>134.46538</td>\n",
       "    </tr>\n",
       "    <tr>\n",
       "      <th>4</th>\n",
       "      <td>5</td>\n",
       "      <td>12022237352030003012</td>\n",
       "      <td>1</td>\n",
       "      <td>0.0</td>\n",
       "      <td>244.77814</td>\n",
       "      <td>51.16954</td>\n",
       "      <td>103.40267</td>\n",
       "      <td>97.34576</td>\n",
       "      <td>23.43879</td>\n",
       "      <td>21.67640</td>\n",
       "      <td>...</td>\n",
       "      <td>128.58647</td>\n",
       "      <td>130.42046</td>\n",
       "      <td>131.86908</td>\n",
       "      <td>132.25946</td>\n",
       "      <td>132.85974</td>\n",
       "      <td>133.49579</td>\n",
       "      <td>133.96456</td>\n",
       "      <td>160.30325</td>\n",
       "      <td>244.39978</td>\n",
       "      <td>244.78109</td>\n",
       "    </tr>\n",
       "  </tbody>\n",
       "</table>\n",
       "<p>5 rows × 110 columns</p>\n",
       "</div>"
      ],
      "text/plain": [
       "   Unnamed: 0               filename  lawyer_male  percent        max  \\\n",
       "0           1  120222015200547280299            1      0.0  258.11872   \n",
       "1           2   12022237318030335018            1      0.0   341.0521   \n",
       "2           3   12022237340030114014            1      0.0  190.87783   \n",
       "3           4   12022237343030224016            1      0.0  133.90526   \n",
       "4           5   12022237352030003012            1      0.0  244.77814   \n",
       "\n",
       "         min       mean     median     stdev    min_in    ...            q91  \\\n",
       "0  105.42314   130.2302  124.03377  29.27223  21.75107    ...      136.41411   \n",
       "1  174.30794  229.27221  222.32459  36.14343  28.10591    ...      283.20606   \n",
       "2   81.00901  111.19673  108.17011    21.815  28.75928    ...      139.80518   \n",
       "3   89.74382  108.61958  105.47788  11.86239  19.00371    ...      128.21476   \n",
       "4   51.16954  103.40267   97.34576  23.43879  21.67640    ...      128.58647   \n",
       "\n",
       "         q92        q93        q94        q95        q96        q97  \\\n",
       "0  137.44948  139.11002  150.97418  233.89897  242.42514  253.86877   \n",
       "1  284.65229  285.03504  285.14059  294.86228   306.1213  311.62433   \n",
       "2  141.01955  146.64117   148.4232  150.16875  159.46629  173.48027   \n",
       "3  129.12292  130.28582  131.14202  131.73361  132.17219  132.43985   \n",
       "4  130.42046  131.86908  132.25946  132.85974  133.49579  133.96456   \n",
       "\n",
       "         q98        q99       q100  \n",
       "0  255.11467  255.86677  259.05867  \n",
       "1  318.55998   327.6212  344.57995  \n",
       "2  175.95107  182.00563  193.21693  \n",
       "3  132.61862  132.68908  134.46538  \n",
       "4  160.30325  244.39978  244.78109  \n",
       "\n",
       "[5 rows x 110 columns]"
      ]
     },
     "execution_count": 76,
     "metadata": {},
     "output_type": "execute_result"
    }
   ],
   "source": [
    "data = pd.read_csv(\"ML_dataset_0930.csv\")\n",
    "data.head()"
   ]
  },
  {
   "cell_type": "markdown",
   "metadata": {},
   "source": [
    "## Preprocessing the Dataset"
   ]
  },
  {
   "cell_type": "code",
   "execution_count": 77,
   "metadata": {},
   "outputs": [
    {
     "data": {
      "text/plain": [
       "1    1535\n",
       "0     646\n",
       "Name: lawyer_male, dtype: int64"
      ]
     },
     "execution_count": 77,
     "metadata": {},
     "output_type": "execute_result"
    }
   ],
   "source": [
    "data.lawyer_male.value_counts()\n",
    "# Male : Female = 2.38\n",
    "## this requires over-sampling in the training dataset"
   ]
  },
  {
   "cell_type": "code",
   "execution_count": 78,
   "metadata": {},
   "outputs": [
    {
     "data": {
      "text/html": [
       "<div>\n",
       "<style scoped>\n",
       "    .dataframe tbody tr th:only-of-type {\n",
       "        vertical-align: middle;\n",
       "    }\n",
       "\n",
       "    .dataframe tbody tr th {\n",
       "        vertical-align: top;\n",
       "    }\n",
       "\n",
       "    .dataframe thead th {\n",
       "        text-align: right;\n",
       "    }\n",
       "</style>\n",
       "<table border=\"1\" class=\"dataframe\">\n",
       "  <thead>\n",
       "    <tr style=\"text-align: right;\">\n",
       "      <th></th>\n",
       "      <th>Unnamed: 0</th>\n",
       "      <th>filename</th>\n",
       "      <th>lawyer_male</th>\n",
       "      <th>percent</th>\n",
       "      <th>max</th>\n",
       "      <th>min</th>\n",
       "      <th>mean</th>\n",
       "      <th>median</th>\n",
       "      <th>stdev</th>\n",
       "      <th>min_in</th>\n",
       "      <th>...</th>\n",
       "      <th>q91</th>\n",
       "      <th>q92</th>\n",
       "      <th>q93</th>\n",
       "      <th>q94</th>\n",
       "      <th>q95</th>\n",
       "      <th>q96</th>\n",
       "      <th>q97</th>\n",
       "      <th>q98</th>\n",
       "      <th>q99</th>\n",
       "      <th>q100</th>\n",
       "    </tr>\n",
       "  </thead>\n",
       "  <tbody>\n",
       "    <tr>\n",
       "      <th>0</th>\n",
       "      <td>1</td>\n",
       "      <td>120222015200547280299</td>\n",
       "      <td>1</td>\n",
       "      <td>0.0</td>\n",
       "      <td>258.11872</td>\n",
       "      <td>105.42314</td>\n",
       "      <td>130.2302</td>\n",
       "      <td>124.03377</td>\n",
       "      <td>29.27223</td>\n",
       "      <td>21.75107</td>\n",
       "      <td>...</td>\n",
       "      <td>136.41411</td>\n",
       "      <td>137.44948</td>\n",
       "      <td>139.11002</td>\n",
       "      <td>150.97418</td>\n",
       "      <td>233.89897</td>\n",
       "      <td>242.42514</td>\n",
       "      <td>253.86877</td>\n",
       "      <td>255.11467</td>\n",
       "      <td>255.86677</td>\n",
       "      <td>259.05867</td>\n",
       "    </tr>\n",
       "    <tr>\n",
       "      <th>1</th>\n",
       "      <td>2</td>\n",
       "      <td>12022237318030335018</td>\n",
       "      <td>1</td>\n",
       "      <td>0.0</td>\n",
       "      <td>341.0521</td>\n",
       "      <td>174.30794</td>\n",
       "      <td>229.27221</td>\n",
       "      <td>222.32459</td>\n",
       "      <td>36.14343</td>\n",
       "      <td>28.10591</td>\n",
       "      <td>...</td>\n",
       "      <td>283.20606</td>\n",
       "      <td>284.65229</td>\n",
       "      <td>285.03504</td>\n",
       "      <td>285.14059</td>\n",
       "      <td>294.86228</td>\n",
       "      <td>306.1213</td>\n",
       "      <td>311.62433</td>\n",
       "      <td>318.55998</td>\n",
       "      <td>327.6212</td>\n",
       "      <td>344.57995</td>\n",
       "    </tr>\n",
       "    <tr>\n",
       "      <th>2</th>\n",
       "      <td>3</td>\n",
       "      <td>12022237340030114014</td>\n",
       "      <td>1</td>\n",
       "      <td>0.0</td>\n",
       "      <td>190.87783</td>\n",
       "      <td>81.00901</td>\n",
       "      <td>111.19673</td>\n",
       "      <td>108.17011</td>\n",
       "      <td>21.815</td>\n",
       "      <td>28.75928</td>\n",
       "      <td>...</td>\n",
       "      <td>139.80518</td>\n",
       "      <td>141.01955</td>\n",
       "      <td>146.64117</td>\n",
       "      <td>148.4232</td>\n",
       "      <td>150.16875</td>\n",
       "      <td>159.46629</td>\n",
       "      <td>173.48027</td>\n",
       "      <td>175.95107</td>\n",
       "      <td>182.00563</td>\n",
       "      <td>193.21693</td>\n",
       "    </tr>\n",
       "    <tr>\n",
       "      <th>3</th>\n",
       "      <td>4</td>\n",
       "      <td>12022237343030224016</td>\n",
       "      <td>1</td>\n",
       "      <td>0.0</td>\n",
       "      <td>133.90526</td>\n",
       "      <td>89.74382</td>\n",
       "      <td>108.61958</td>\n",
       "      <td>105.47788</td>\n",
       "      <td>11.86239</td>\n",
       "      <td>19.00371</td>\n",
       "      <td>...</td>\n",
       "      <td>128.21476</td>\n",
       "      <td>129.12292</td>\n",
       "      <td>130.28582</td>\n",
       "      <td>131.14202</td>\n",
       "      <td>131.73361</td>\n",
       "      <td>132.17219</td>\n",
       "      <td>132.43985</td>\n",
       "      <td>132.61862</td>\n",
       "      <td>132.68908</td>\n",
       "      <td>134.46538</td>\n",
       "    </tr>\n",
       "    <tr>\n",
       "      <th>4</th>\n",
       "      <td>5</td>\n",
       "      <td>12022237352030003012</td>\n",
       "      <td>1</td>\n",
       "      <td>0.0</td>\n",
       "      <td>244.77814</td>\n",
       "      <td>51.16954</td>\n",
       "      <td>103.40267</td>\n",
       "      <td>97.34576</td>\n",
       "      <td>23.43879</td>\n",
       "      <td>21.67640</td>\n",
       "      <td>...</td>\n",
       "      <td>128.58647</td>\n",
       "      <td>130.42046</td>\n",
       "      <td>131.86908</td>\n",
       "      <td>132.25946</td>\n",
       "      <td>132.85974</td>\n",
       "      <td>133.49579</td>\n",
       "      <td>133.96456</td>\n",
       "      <td>160.30325</td>\n",
       "      <td>244.39978</td>\n",
       "      <td>244.78109</td>\n",
       "    </tr>\n",
       "  </tbody>\n",
       "</table>\n",
       "<p>5 rows × 110 columns</p>\n",
       "</div>"
      ],
      "text/plain": [
       "   Unnamed: 0               filename  lawyer_male  percent        max  \\\n",
       "0           1  120222015200547280299            1      0.0  258.11872   \n",
       "1           2   12022237318030335018            1      0.0   341.0521   \n",
       "2           3   12022237340030114014            1      0.0  190.87783   \n",
       "3           4   12022237343030224016            1      0.0  133.90526   \n",
       "4           5   12022237352030003012            1      0.0  244.77814   \n",
       "\n",
       "         min       mean     median     stdev    min_in    ...            q91  \\\n",
       "0  105.42314   130.2302  124.03377  29.27223  21.75107    ...      136.41411   \n",
       "1  174.30794  229.27221  222.32459  36.14343  28.10591    ...      283.20606   \n",
       "2   81.00901  111.19673  108.17011    21.815  28.75928    ...      139.80518   \n",
       "3   89.74382  108.61958  105.47788  11.86239  19.00371    ...      128.21476   \n",
       "4   51.16954  103.40267   97.34576  23.43879  21.67640    ...      128.58647   \n",
       "\n",
       "         q92        q93        q94        q95        q96        q97  \\\n",
       "0  137.44948  139.11002  150.97418  233.89897  242.42514  253.86877   \n",
       "1  284.65229  285.03504  285.14059  294.86228   306.1213  311.62433   \n",
       "2  141.01955  146.64117   148.4232  150.16875  159.46629  173.48027   \n",
       "3  129.12292  130.28582  131.14202  131.73361  132.17219  132.43985   \n",
       "4  130.42046  131.86908  132.25946  132.85974  133.49579  133.96456   \n",
       "\n",
       "         q98        q99       q100  \n",
       "0  255.11467  255.86677  259.05867  \n",
       "1  318.55998   327.6212  344.57995  \n",
       "2  175.95107  182.00563  193.21693  \n",
       "3  132.61862  132.68908  134.46538  \n",
       "4  160.30325  244.39978  244.78109  \n",
       "\n",
       "[5 rows x 110 columns]"
      ]
     },
     "execution_count": 78,
     "metadata": {},
     "output_type": "execute_result"
    }
   ],
   "source": [
    "data.head()"
   ]
  },
  {
   "cell_type": "code",
   "execution_count": 79,
   "metadata": {},
   "outputs": [],
   "source": [
    "acoustics=data.columns[4:]"
   ]
  },
  {
   "cell_type": "code",
   "execution_count": 80,
   "metadata": {},
   "outputs": [],
   "source": [
    "for item in acoustics:\n",
    "    data[item] = data[item].apply(pd.to_numeric,errors=\"coerce\",downcast=\"float\")"
   ]
  },
  {
   "cell_type": "markdown",
   "metadata": {},
   "source": [
    "## Split the Train and Test Dataset"
   ]
  },
  {
   "cell_type": "code",
   "execution_count": 81,
   "metadata": {},
   "outputs": [],
   "source": [
    "X = data[data.columns[4:]]\n",
    "y = data[\"lawyer_male\"]\n",
    "\n",
    "X_train, X_test, y_train, y_test = train_test_split(X,y,test_size=0.3,random_state=10000)"
   ]
  },
  {
   "cell_type": "code",
   "execution_count": 82,
   "metadata": {},
   "outputs": [
    {
     "data": {
      "text/plain": [
       "1    1053\n",
       "0     473\n",
       "Name: lawyer_male, dtype: int64"
      ]
     },
     "execution_count": 82,
     "metadata": {},
     "output_type": "execute_result"
    }
   ],
   "source": [
    "y_train.value_counts()"
   ]
  },
  {
   "cell_type": "code",
   "execution_count": null,
   "metadata": {},
   "outputs": [],
   "source": []
  },
  {
   "cell_type": "markdown",
   "metadata": {},
   "source": [
    "### Over-sample Female Lawyers"
   ]
  },
  {
   "cell_type": "code",
   "execution_count": 83,
   "metadata": {},
   "outputs": [
    {
     "data": {
      "text/plain": [
       "Index(['max', 'min', 'mean', 'median', 'stdev', 'min_in', 'q1', 'q2', 'q3',\n",
       "       'q4',\n",
       "       ...\n",
       "       'q91', 'q92', 'q93', 'q94', 'q95', 'q96', 'q97', 'q98', 'q99', 'q100'],\n",
       "      dtype='object', length=106)"
      ]
     },
     "execution_count": 83,
     "metadata": {},
     "output_type": "execute_result"
    }
   ],
   "source": [
    "column_name_list = X_train.columns\n",
    "column_name_list"
   ]
  },
  {
   "cell_type": "code",
   "execution_count": 84,
   "metadata": {},
   "outputs": [],
   "source": [
    "mean_imputer = Imputer(strategy=\"mean\",axis=0)\n",
    "mean_imputer = mean_imputer.fit(X_train)\n",
    "imputed_train = mean_imputer.transform(X_train.values)\n",
    "New_train = pd.DataFrame(imputed_train,columns=[X_train.columns])\n",
    "X_train = New_train"
   ]
  },
  {
   "cell_type": "code",
   "execution_count": null,
   "metadata": {},
   "outputs": [],
   "source": []
  },
  {
   "cell_type": "code",
   "execution_count": 85,
   "metadata": {},
   "outputs": [],
   "source": [
    "sm = SMOTE(random_state=20,ratio=1.0)"
   ]
  },
  {
   "cell_type": "code",
   "execution_count": 86,
   "metadata": {},
   "outputs": [
    {
     "name": "stderr",
     "output_type": "stream",
     "text": [
      "/anaconda3/lib/python3.6/site-packages/sklearn/utils/deprecation.py:77: DeprecationWarning: Function _ratio_float is deprecated; Use a float for 'ratio' is deprecated from version 0.2. The support will be removed in 0.4. Use a dict, str, or a callable instead.\n",
      "  warnings.warn(msg, category=DeprecationWarning)\n"
     ]
    }
   ],
   "source": [
    "x_train_res,y_train_res = sm.fit_sample(X_train,y_train)"
   ]
  },
  {
   "cell_type": "code",
   "execution_count": 87,
   "metadata": {},
   "outputs": [],
   "source": [
    "x_train_res = pd.DataFrame(x_train_res)"
   ]
  },
  {
   "cell_type": "code",
   "execution_count": 88,
   "metadata": {},
   "outputs": [],
   "source": [
    "name_dic = {}\n",
    "for col in range(len(column_name_list)):\n",
    "    name = column_name_list[col]\n",
    "    name_dic[col] = name"
   ]
  },
  {
   "cell_type": "code",
   "execution_count": 89,
   "metadata": {},
   "outputs": [
    {
     "data": {
      "text/html": [
       "<div>\n",
       "<style scoped>\n",
       "    .dataframe tbody tr th:only-of-type {\n",
       "        vertical-align: middle;\n",
       "    }\n",
       "\n",
       "    .dataframe tbody tr th {\n",
       "        vertical-align: top;\n",
       "    }\n",
       "\n",
       "    .dataframe thead th {\n",
       "        text-align: right;\n",
       "    }\n",
       "</style>\n",
       "<table border=\"1\" class=\"dataframe\">\n",
       "  <thead>\n",
       "    <tr style=\"text-align: right;\">\n",
       "      <th></th>\n",
       "      <th>max</th>\n",
       "      <th>min</th>\n",
       "      <th>mean</th>\n",
       "      <th>median</th>\n",
       "      <th>stdev</th>\n",
       "      <th>min_in</th>\n",
       "      <th>q1</th>\n",
       "      <th>q2</th>\n",
       "      <th>q3</th>\n",
       "      <th>q4</th>\n",
       "      <th>...</th>\n",
       "      <th>q91</th>\n",
       "      <th>q92</th>\n",
       "      <th>q93</th>\n",
       "      <th>q94</th>\n",
       "      <th>q95</th>\n",
       "      <th>q96</th>\n",
       "      <th>q97</th>\n",
       "      <th>q98</th>\n",
       "      <th>q99</th>\n",
       "      <th>q100</th>\n",
       "    </tr>\n",
       "  </thead>\n",
       "  <tbody>\n",
       "    <tr>\n",
       "      <th>0</th>\n",
       "      <td>300.898041</td>\n",
       "      <td>126.391289</td>\n",
       "      <td>194.151443</td>\n",
       "      <td>187.806717</td>\n",
       "      <td>40.660011</td>\n",
       "      <td>-300.00000</td>\n",
       "      <td>126.693428</td>\n",
       "      <td>127.483780</td>\n",
       "      <td>128.768234</td>\n",
       "      <td>130.554794</td>\n",
       "      <td>...</td>\n",
       "      <td>257.360565</td>\n",
       "      <td>262.832123</td>\n",
       "      <td>268.648865</td>\n",
       "      <td>274.588898</td>\n",
       "      <td>280.999207</td>\n",
       "      <td>284.620544</td>\n",
       "      <td>288.304169</td>\n",
       "      <td>294.594696</td>\n",
       "      <td>298.021759</td>\n",
       "      <td>300.792938</td>\n",
       "    </tr>\n",
       "    <tr>\n",
       "      <th>1</th>\n",
       "      <td>137.812103</td>\n",
       "      <td>84.601677</td>\n",
       "      <td>113.580887</td>\n",
       "      <td>113.646973</td>\n",
       "      <td>13.747950</td>\n",
       "      <td>25.32659</td>\n",
       "      <td>84.693138</td>\n",
       "      <td>84.865692</td>\n",
       "      <td>86.067589</td>\n",
       "      <td>86.687424</td>\n",
       "      <td>...</td>\n",
       "      <td>134.368271</td>\n",
       "      <td>134.989395</td>\n",
       "      <td>135.555954</td>\n",
       "      <td>136.214996</td>\n",
       "      <td>136.540894</td>\n",
       "      <td>136.722580</td>\n",
       "      <td>137.122009</td>\n",
       "      <td>137.442749</td>\n",
       "      <td>137.635834</td>\n",
       "      <td>137.865097</td>\n",
       "    </tr>\n",
       "    <tr>\n",
       "      <th>2</th>\n",
       "      <td>153.739868</td>\n",
       "      <td>123.675369</td>\n",
       "      <td>142.542587</td>\n",
       "      <td>141.615967</td>\n",
       "      <td>6.930930</td>\n",
       "      <td>-300.00000</td>\n",
       "      <td>124.534698</td>\n",
       "      <td>125.505234</td>\n",
       "      <td>127.697411</td>\n",
       "      <td>128.799332</td>\n",
       "      <td>...</td>\n",
       "      <td>151.893082</td>\n",
       "      <td>152.510315</td>\n",
       "      <td>152.886642</td>\n",
       "      <td>153.091217</td>\n",
       "      <td>153.235138</td>\n",
       "      <td>153.418030</td>\n",
       "      <td>153.522675</td>\n",
       "      <td>153.662292</td>\n",
       "      <td>153.705597</td>\n",
       "      <td>153.763733</td>\n",
       "    </tr>\n",
       "    <tr>\n",
       "      <th>3</th>\n",
       "      <td>246.949326</td>\n",
       "      <td>184.289688</td>\n",
       "      <td>209.280090</td>\n",
       "      <td>207.946396</td>\n",
       "      <td>10.989340</td>\n",
       "      <td>38.87367</td>\n",
       "      <td>188.455994</td>\n",
       "      <td>189.447052</td>\n",
       "      <td>189.958527</td>\n",
       "      <td>190.728409</td>\n",
       "      <td>...</td>\n",
       "      <td>224.914627</td>\n",
       "      <td>225.341797</td>\n",
       "      <td>226.371094</td>\n",
       "      <td>227.598694</td>\n",
       "      <td>230.760178</td>\n",
       "      <td>232.775558</td>\n",
       "      <td>233.928055</td>\n",
       "      <td>235.082703</td>\n",
       "      <td>240.785202</td>\n",
       "      <td>248.301636</td>\n",
       "    </tr>\n",
       "    <tr>\n",
       "      <th>4</th>\n",
       "      <td>216.023926</td>\n",
       "      <td>85.003983</td>\n",
       "      <td>141.774216</td>\n",
       "      <td>138.980179</td>\n",
       "      <td>28.579720</td>\n",
       "      <td>-300.00000</td>\n",
       "      <td>85.492813</td>\n",
       "      <td>88.298203</td>\n",
       "      <td>93.637650</td>\n",
       "      <td>97.573898</td>\n",
       "      <td>...</td>\n",
       "      <td>185.098846</td>\n",
       "      <td>185.455444</td>\n",
       "      <td>191.880615</td>\n",
       "      <td>200.930344</td>\n",
       "      <td>208.057114</td>\n",
       "      <td>210.657043</td>\n",
       "      <td>213.309464</td>\n",
       "      <td>214.846054</td>\n",
       "      <td>215.636017</td>\n",
       "      <td>216.008026</td>\n",
       "    </tr>\n",
       "  </tbody>\n",
       "</table>\n",
       "<p>5 rows × 106 columns</p>\n",
       "</div>"
      ],
      "text/plain": [
       "          max         min        mean      median      stdev     min_in  \\\n",
       "0  300.898041  126.391289  194.151443  187.806717  40.660011 -300.00000   \n",
       "1  137.812103   84.601677  113.580887  113.646973  13.747950   25.32659   \n",
       "2  153.739868  123.675369  142.542587  141.615967   6.930930 -300.00000   \n",
       "3  246.949326  184.289688  209.280090  207.946396  10.989340   38.87367   \n",
       "4  216.023926   85.003983  141.774216  138.980179  28.579720 -300.00000   \n",
       "\n",
       "           q1          q2          q3          q4     ...             q91  \\\n",
       "0  126.693428  127.483780  128.768234  130.554794     ...      257.360565   \n",
       "1   84.693138   84.865692   86.067589   86.687424     ...      134.368271   \n",
       "2  124.534698  125.505234  127.697411  128.799332     ...      151.893082   \n",
       "3  188.455994  189.447052  189.958527  190.728409     ...      224.914627   \n",
       "4   85.492813   88.298203   93.637650   97.573898     ...      185.098846   \n",
       "\n",
       "          q92         q93         q94         q95         q96         q97  \\\n",
       "0  262.832123  268.648865  274.588898  280.999207  284.620544  288.304169   \n",
       "1  134.989395  135.555954  136.214996  136.540894  136.722580  137.122009   \n",
       "2  152.510315  152.886642  153.091217  153.235138  153.418030  153.522675   \n",
       "3  225.341797  226.371094  227.598694  230.760178  232.775558  233.928055   \n",
       "4  185.455444  191.880615  200.930344  208.057114  210.657043  213.309464   \n",
       "\n",
       "          q98         q99        q100  \n",
       "0  294.594696  298.021759  300.792938  \n",
       "1  137.442749  137.635834  137.865097  \n",
       "2  153.662292  153.705597  153.763733  \n",
       "3  235.082703  240.785202  248.301636  \n",
       "4  214.846054  215.636017  216.008026  \n",
       "\n",
       "[5 rows x 106 columns]"
      ]
     },
     "execution_count": 89,
     "metadata": {},
     "output_type": "execute_result"
    }
   ],
   "source": [
    "x_train_res.rename(columns=name_dic,inplace=True)\n",
    "x_train_res.head()"
   ]
  },
  {
   "cell_type": "code",
   "execution_count": 93,
   "metadata": {},
   "outputs": [
    {
     "data": {
      "text/plain": [
       "1053"
      ]
     },
     "execution_count": 93,
     "metadata": {},
     "output_type": "execute_result"
    }
   ],
   "source": [
    "len(y_train_res[y_train_res==0]) "
   ]
  },
  {
   "cell_type": "markdown",
   "metadata": {},
   "source": [
    "## XGBoost Model Training"
   ]
  },
  {
   "cell_type": "code",
   "execution_count": 19,
   "metadata": {},
   "outputs": [],
   "source": [
    "xg_train = xgb.DMatrix(x_train_res,label=y_train_res)\n",
    "xg_test = xgb.DMatrix(X_test,label=y_test)\n",
    "\n",
    "eval_set = [(xg_train,\"Train\"),(xg_test,\"Test\")] # comfusion\n",
    "\n",
    "xgb_params = {\n",
    "    'eta': 0.05,\n",
    "    'max_depth': 3,\n",
    "    'min_child_weight': 1,\n",
    "    'objective': 'binary:logistic',\n",
    "    'eval_metric': ['error', 'logloss'],\n",
    "    'subsample': 1,\n",
    "    'colsample_bytree': 1,\n",
    "    'seed': 2333,\n",
    "    'silent': 1\n",
    "}\n"
   ]
  },
  {
   "cell_type": "markdown",
   "metadata": {},
   "source": [
    "### Tune Parameters: max_depth, min_child_weight, subsample, colsample"
   ]
  },
  {
   "cell_type": "code",
   "execution_count": 43,
   "metadata": {},
   "outputs": [],
   "source": [
    "gridsearch_params = [\n",
    "    (max_depth, min_child_weight, subsample, colsample)\n",
    "    for max_depth in range(3, 8)\n",
    "    for min_child_weight in range(2, 6)\n",
    "    for subsample in [0.7, 0.8, 0.9, 1.0]\n",
    "    for colsample in [0.7, 0.8, 0.9, 1.0]\n",
    "]\n",
    "min_logloss = float(\"Inf\")\n",
    "best_params = None"
   ]
  },
  {
   "cell_type": "code",
   "execution_count": 44,
   "metadata": {},
   "outputs": [
    {
     "name": "stdout",
     "output_type": "stream",
     "text": [
      "CV with max_depth = 3, min_child_weight = 2, subsample = 0.7, colsample = 0.7\n",
      "\tMLL 0.301201 for 183 rounds\n",
      "Best params:max_depth 3, min_child_weight 2, subsample 0.7, colsample 0.7, MLL: 0.301201, round 183\n",
      "CV with max_depth = 3, min_child_weight = 2, subsample = 0.7, colsample = 0.8\n"
     ]
    },
    {
     "ename": "KeyboardInterrupt",
     "evalue": "",
     "output_type": "error",
     "traceback": [
      "\u001b[0;31m---------------------------------------------------------------------------\u001b[0m",
      "\u001b[0;31mKeyboardInterrupt\u001b[0m                         Traceback (most recent call last)",
      "\u001b[0;32m<ipython-input-44-24bae81846ee>\u001b[0m in \u001b[0;36m<module>\u001b[0;34m()\u001b[0m\n\u001b[1;32m     12\u001b[0m \u001b[0;34m\u001b[0m\u001b[0m\n\u001b[1;32m     13\u001b[0m \u001b[0;34m\u001b[0m\u001b[0m\n\u001b[0;32m---> 14\u001b[0;31m     \u001b[0mcv_result\u001b[0m \u001b[0;34m=\u001b[0m \u001b[0mxgb\u001b[0m\u001b[0;34m.\u001b[0m\u001b[0mcv\u001b[0m\u001b[0;34m(\u001b[0m\u001b[0mxgb_params\u001b[0m\u001b[0;34m,\u001b[0m\u001b[0mxg_train\u001b[0m\u001b[0;34m,\u001b[0m\u001b[0mnum_boost_round\u001b[0m\u001b[0;34m=\u001b[0m\u001b[0;36m1000\u001b[0m\u001b[0;34m,\u001b[0m\u001b[0mnfold\u001b[0m\u001b[0;34m=\u001b[0m\u001b[0;36m5\u001b[0m\u001b[0;34m,\u001b[0m\u001b[0mearly_stopping_rounds\u001b[0m\u001b[0;34m=\u001b[0m\u001b[0;36m10\u001b[0m\u001b[0;34m,\u001b[0m\u001b[0mseed\u001b[0m\u001b[0;34m=\u001b[0m\u001b[0;36m2333\u001b[0m\u001b[0;34m,\u001b[0m \u001b[0mmetrics\u001b[0m\u001b[0;34m=\u001b[0m\u001b[0;34m[\u001b[0m\u001b[0;34m'error'\u001b[0m\u001b[0;34m,\u001b[0m \u001b[0;34m'logloss'\u001b[0m\u001b[0;34m]\u001b[0m\u001b[0;34m)\u001b[0m\u001b[0;34m\u001b[0m\u001b[0m\n\u001b[0m\u001b[1;32m     15\u001b[0m     \u001b[0mmean_logloss\u001b[0m \u001b[0;34m=\u001b[0m \u001b[0mcv_result\u001b[0m\u001b[0;34m[\u001b[0m\u001b[0;34m'test-logloss-mean'\u001b[0m\u001b[0;34m]\u001b[0m\u001b[0;34m.\u001b[0m\u001b[0mmin\u001b[0m\u001b[0;34m(\u001b[0m\u001b[0;34m)\u001b[0m\u001b[0;34m\u001b[0m\u001b[0m\n\u001b[1;32m     16\u001b[0m     \u001b[0mboost_rounds\u001b[0m \u001b[0;34m=\u001b[0m \u001b[0mcv_result\u001b[0m\u001b[0;34m[\u001b[0m\u001b[0;34m'test-logloss-mean'\u001b[0m\u001b[0;34m]\u001b[0m\u001b[0;34m.\u001b[0m\u001b[0midxmin\u001b[0m\u001b[0;34m(\u001b[0m\u001b[0;34m)\u001b[0m\u001b[0;34m\u001b[0m\u001b[0m\n",
      "\u001b[0;32m/anaconda3/lib/python3.6/site-packages/xgboost/training.py\u001b[0m in \u001b[0;36mcv\u001b[0;34m(params, dtrain, num_boost_round, nfold, stratified, folds, metrics, obj, feval, maximize, early_stopping_rounds, fpreproc, as_pandas, verbose_eval, show_stdv, seed, callbacks)\u001b[0m\n\u001b[1;32m    398\u001b[0m                            evaluation_result_list=None))\n\u001b[1;32m    399\u001b[0m         \u001b[0;32mfor\u001b[0m \u001b[0mfold\u001b[0m \u001b[0;32min\u001b[0m \u001b[0mcvfolds\u001b[0m\u001b[0;34m:\u001b[0m\u001b[0;34m\u001b[0m\u001b[0m\n\u001b[0;32m--> 400\u001b[0;31m             \u001b[0mfold\u001b[0m\u001b[0;34m.\u001b[0m\u001b[0mupdate\u001b[0m\u001b[0;34m(\u001b[0m\u001b[0mi\u001b[0m\u001b[0;34m,\u001b[0m \u001b[0mobj\u001b[0m\u001b[0;34m)\u001b[0m\u001b[0;34m\u001b[0m\u001b[0m\n\u001b[0m\u001b[1;32m    401\u001b[0m         \u001b[0mres\u001b[0m \u001b[0;34m=\u001b[0m \u001b[0maggcv\u001b[0m\u001b[0;34m(\u001b[0m\u001b[0;34m[\u001b[0m\u001b[0mf\u001b[0m\u001b[0;34m.\u001b[0m\u001b[0meval\u001b[0m\u001b[0;34m(\u001b[0m\u001b[0mi\u001b[0m\u001b[0;34m,\u001b[0m \u001b[0mfeval\u001b[0m\u001b[0;34m)\u001b[0m \u001b[0;32mfor\u001b[0m \u001b[0mf\u001b[0m \u001b[0;32min\u001b[0m \u001b[0mcvfolds\u001b[0m\u001b[0;34m]\u001b[0m\u001b[0;34m)\u001b[0m\u001b[0;34m\u001b[0m\u001b[0m\n\u001b[1;32m    402\u001b[0m \u001b[0;34m\u001b[0m\u001b[0m\n",
      "\u001b[0;32m/anaconda3/lib/python3.6/site-packages/xgboost/training.py\u001b[0m in \u001b[0;36mupdate\u001b[0;34m(self, iteration, fobj)\u001b[0m\n\u001b[1;32m    217\u001b[0m     \u001b[0;32mdef\u001b[0m \u001b[0mupdate\u001b[0m\u001b[0;34m(\u001b[0m\u001b[0mself\u001b[0m\u001b[0;34m,\u001b[0m \u001b[0miteration\u001b[0m\u001b[0;34m,\u001b[0m \u001b[0mfobj\u001b[0m\u001b[0;34m)\u001b[0m\u001b[0;34m:\u001b[0m\u001b[0;34m\u001b[0m\u001b[0m\n\u001b[1;32m    218\u001b[0m         \u001b[0;34m\"\"\"\"Update the boosters for one iteration\"\"\"\u001b[0m\u001b[0;34m\u001b[0m\u001b[0m\n\u001b[0;32m--> 219\u001b[0;31m         \u001b[0mself\u001b[0m\u001b[0;34m.\u001b[0m\u001b[0mbst\u001b[0m\u001b[0;34m.\u001b[0m\u001b[0mupdate\u001b[0m\u001b[0;34m(\u001b[0m\u001b[0mself\u001b[0m\u001b[0;34m.\u001b[0m\u001b[0mdtrain\u001b[0m\u001b[0;34m,\u001b[0m \u001b[0miteration\u001b[0m\u001b[0;34m,\u001b[0m \u001b[0mfobj\u001b[0m\u001b[0;34m)\u001b[0m\u001b[0;34m\u001b[0m\u001b[0m\n\u001b[0m\u001b[1;32m    220\u001b[0m \u001b[0;34m\u001b[0m\u001b[0m\n\u001b[1;32m    221\u001b[0m     \u001b[0;32mdef\u001b[0m \u001b[0meval\u001b[0m\u001b[0;34m(\u001b[0m\u001b[0mself\u001b[0m\u001b[0;34m,\u001b[0m \u001b[0miteration\u001b[0m\u001b[0;34m,\u001b[0m \u001b[0mfeval\u001b[0m\u001b[0;34m)\u001b[0m\u001b[0;34m:\u001b[0m\u001b[0;34m\u001b[0m\u001b[0m\n",
      "\u001b[0;32m/anaconda3/lib/python3.6/site-packages/xgboost/core.py\u001b[0m in \u001b[0;36mupdate\u001b[0;34m(self, dtrain, iteration, fobj)\u001b[0m\n\u001b[1;32m    804\u001b[0m \u001b[0;34m\u001b[0m\u001b[0m\n\u001b[1;32m    805\u001b[0m         \u001b[0;32mif\u001b[0m \u001b[0mfobj\u001b[0m \u001b[0;32mis\u001b[0m \u001b[0;32mNone\u001b[0m\u001b[0;34m:\u001b[0m\u001b[0;34m\u001b[0m\u001b[0m\n\u001b[0;32m--> 806\u001b[0;31m             \u001b[0m_check_call\u001b[0m\u001b[0;34m(\u001b[0m\u001b[0m_LIB\u001b[0m\u001b[0;34m.\u001b[0m\u001b[0mXGBoosterUpdateOneIter\u001b[0m\u001b[0;34m(\u001b[0m\u001b[0mself\u001b[0m\u001b[0;34m.\u001b[0m\u001b[0mhandle\u001b[0m\u001b[0;34m,\u001b[0m \u001b[0miteration\u001b[0m\u001b[0;34m,\u001b[0m \u001b[0mdtrain\u001b[0m\u001b[0;34m.\u001b[0m\u001b[0mhandle\u001b[0m\u001b[0;34m)\u001b[0m\u001b[0;34m)\u001b[0m\u001b[0;34m\u001b[0m\u001b[0m\n\u001b[0m\u001b[1;32m    807\u001b[0m         \u001b[0;32melse\u001b[0m\u001b[0;34m:\u001b[0m\u001b[0;34m\u001b[0m\u001b[0m\n\u001b[1;32m    808\u001b[0m             \u001b[0mpred\u001b[0m \u001b[0;34m=\u001b[0m \u001b[0mself\u001b[0m\u001b[0;34m.\u001b[0m\u001b[0mpredict\u001b[0m\u001b[0;34m(\u001b[0m\u001b[0mdtrain\u001b[0m\u001b[0;34m)\u001b[0m\u001b[0;34m\u001b[0m\u001b[0m\n",
      "\u001b[0;31mKeyboardInterrupt\u001b[0m: "
     ]
    }
   ],
   "source": [
    "for max_depth, min_child_weight, subsample, colsample in gridsearch_params:\n",
    "    print(\"CV with max_depth = {}, min_child_weight = {}, subsample = {}, colsample = {}\".format(\n",
    "        max_depth,\n",
    "        min_child_weight,\n",
    "        subsample,\n",
    "        colsample\n",
    "    ))\n",
    "    xgb_params['max_depth'] = max_depth\n",
    "    xgb_params['min_child_weight'] = min_child_weight\n",
    "    xgb_params['subsample'] = subsample\n",
    "    xgb_params['colsample'] = colsample\n",
    "    \n",
    "    \n",
    "    cv_result = xgb.cv(xgb_params,xg_train,num_boost_round=1000,nfold=5,early_stopping_rounds=10,seed=2333, metrics=['error', 'logloss'])\n",
    "    mean_logloss = cv_result['test-logloss-mean'].min()\n",
    "    boost_rounds = cv_result['test-logloss-mean'].idxmin()\n",
    "    print(\"\\tMLL {} for {} rounds\".format(mean_logloss, boost_rounds))\n",
    "    \n",
    "    if mean_logloss < min_logloss:\n",
    "        min_logloss = mean_logloss\n",
    "        optimal_boost_rounds = boost_rounds\n",
    "        best_params = (max_depth,min_child_weight,subsample,colsample)\n",
    "    print(\"Best params:max_depth {}, min_child_weight {}, subsample {}, colsample {}, MLL: {}, round {}\".format(\n",
    "        best_params[0], best_params[1], best_params[2], best_params[3], min_logloss, optimal_boost_rounds))"
   ]
  },
  {
   "cell_type": "code",
   "execution_count": 25,
   "metadata": {},
   "outputs": [],
   "source": []
  },
  {
   "cell_type": "markdown",
   "metadata": {},
   "source": [
    "### Optimal xgb_params Based on Tuning"
   ]
  },
  {
   "cell_type": "code",
   "execution_count": 97,
   "metadata": {},
   "outputs": [],
   "source": [
    "xgb_params = {\n",
    "    'eta': 0.05,\n",
    "    'max_depth': 3,\n",
    "    'min_child_weight': 1,\n",
    "    'objective': 'binary:logistic',\n",
    "    'eval_metric': ['error', 'logloss'],\n",
    "    'subsample': 1,\n",
    "    'colsample_bytree': 1,\n",
    "    'seed': 2333,\n",
    "    'silent': 1\n",
    "}\n"
   ]
  },
  {
   "cell_type": "code",
   "execution_count": 98,
   "metadata": {},
   "outputs": [
    {
     "name": "stdout",
     "output_type": "stream",
     "text": [
      "[0]\tTrain-logloss:0.663881\tTrain-error:0.130104\tTest-logloss:0.662041\tTest-error:0.137405\n",
      "Multiple eval metrics have been passed: 'Test-error' will be used for early stopping.\n",
      "\n",
      "Will train until Test-error hasn't improved in 10 rounds.\n",
      "[1]\tTrain-logloss:0.637229\tTrain-error:0.121083\tTest-logloss:0.634145\tTest-error:0.146565\n",
      "[2]\tTrain-logloss:0.613012\tTrain-error:0.119183\tTest-logloss:0.608913\tTest-error:0.138931\n",
      "[3]\tTrain-logloss:0.59086\tTrain-error:0.119183\tTest-logloss:0.585842\tTest-error:0.143511\n",
      "[4]\tTrain-logloss:0.570797\tTrain-error:0.120608\tTest-logloss:0.56496\tTest-error:0.148092\n",
      "[5]\tTrain-logloss:0.552049\tTrain-error:0.117284\tTest-logloss:0.545722\tTest-error:0.143511\n",
      "[6]\tTrain-logloss:0.534962\tTrain-error:0.120608\tTest-logloss:0.52826\tTest-error:0.148092\n",
      "[7]\tTrain-logloss:0.519119\tTrain-error:0.119183\tTest-logloss:0.51163\tTest-error:0.148092\n",
      "[8]\tTrain-logloss:0.504583\tTrain-error:0.119183\tTest-logloss:0.496877\tTest-error:0.146565\n",
      "[9]\tTrain-logloss:0.491075\tTrain-error:0.11491\tTest-logloss:0.482261\tTest-error:0.126718\n",
      "[10]\tTrain-logloss:0.478623\tTrain-error:0.114435\tTest-logloss:0.469288\tTest-error:0.125191\n",
      "[11]\tTrain-logloss:0.466918\tTrain-error:0.11491\tTest-logloss:0.457183\tTest-error:0.128244\n",
      "[12]\tTrain-logloss:0.455945\tTrain-error:0.115385\tTest-logloss:0.445972\tTest-error:0.125191\n",
      "[13]\tTrain-logloss:0.445876\tTrain-error:0.117284\tTest-logloss:0.435587\tTest-error:0.125191\n",
      "[14]\tTrain-logloss:0.436415\tTrain-error:0.11491\tTest-logloss:0.425874\tTest-error:0.123664\n",
      "[15]\tTrain-logloss:0.427678\tTrain-error:0.11301\tTest-logloss:0.416853\tTest-error:0.125191\n",
      "[16]\tTrain-logloss:0.41948\tTrain-error:0.114435\tTest-logloss:0.408562\tTest-error:0.125191\n",
      "[17]\tTrain-logloss:0.411786\tTrain-error:0.117284\tTest-logloss:0.401265\tTest-error:0.125191\n",
      "[18]\tTrain-logloss:0.404394\tTrain-error:0.116334\tTest-logloss:0.393563\tTest-error:0.123664\n",
      "[19]\tTrain-logloss:0.397693\tTrain-error:0.118234\tTest-logloss:0.387276\tTest-error:0.123664\n",
      "[20]\tTrain-logloss:0.391216\tTrain-error:0.117759\tTest-logloss:0.380616\tTest-error:0.126718\n",
      "[21]\tTrain-logloss:0.385181\tTrain-error:0.116809\tTest-logloss:0.374557\tTest-error:0.125191\n",
      "[22]\tTrain-logloss:0.379371\tTrain-error:0.118234\tTest-logloss:0.36957\tTest-error:0.125191\n",
      "[23]\tTrain-logloss:0.373981\tTrain-error:0.115859\tTest-logloss:0.363662\tTest-error:0.123664\n",
      "[24]\tTrain-logloss:0.36884\tTrain-error:0.115385\tTest-logloss:0.358541\tTest-error:0.122137\n",
      "[25]\tTrain-logloss:0.363891\tTrain-error:0.114435\tTest-logloss:0.354185\tTest-error:0.123664\n",
      "[26]\tTrain-logloss:0.359533\tTrain-error:0.116334\tTest-logloss:0.350284\tTest-error:0.123664\n",
      "[27]\tTrain-logloss:0.355077\tTrain-error:0.11491\tTest-logloss:0.345999\tTest-error:0.123664\n",
      "[28]\tTrain-logloss:0.351042\tTrain-error:0.116334\tTest-logloss:0.341967\tTest-error:0.120611\n",
      "[29]\tTrain-logloss:0.347412\tTrain-error:0.116334\tTest-logloss:0.338821\tTest-error:0.120611\n",
      "[30]\tTrain-logloss:0.343471\tTrain-error:0.115385\tTest-logloss:0.335195\tTest-error:0.120611\n",
      "[31]\tTrain-logloss:0.339772\tTrain-error:0.115385\tTest-logloss:0.332051\tTest-error:0.122137\n",
      "[32]\tTrain-logloss:0.336397\tTrain-error:0.115859\tTest-logloss:0.328816\tTest-error:0.122137\n",
      "[33]\tTrain-logloss:0.333261\tTrain-error:0.11396\tTest-logloss:0.32607\tTest-error:0.123664\n",
      "[34]\tTrain-logloss:0.330565\tTrain-error:0.115859\tTest-logloss:0.323816\tTest-error:0.122137\n",
      "[35]\tTrain-logloss:0.327968\tTrain-error:0.11396\tTest-logloss:0.32156\tTest-error:0.122137\n",
      "[36]\tTrain-logloss:0.325576\tTrain-error:0.11491\tTest-logloss:0.319252\tTest-error:0.122137\n",
      "[37]\tTrain-logloss:0.323184\tTrain-error:0.11491\tTest-logloss:0.317172\tTest-error:0.122137\n",
      "[38]\tTrain-logloss:0.320557\tTrain-error:0.11491\tTest-logloss:0.314835\tTest-error:0.122137\n",
      "Stopping. Best iteration:\n",
      "[28]\tTrain-logloss:0.351042\tTrain-error:0.116334\tTest-logloss:0.341967\tTest-error:0.120611\n",
      "\n"
     ]
    }
   ],
   "source": [
    "tuned_model = xgb.train(xgb_params, xg_train, num_boost_round=1000, evals=eval_set, early_stopping_rounds=10)"
   ]
  },
  {
   "cell_type": "code",
   "execution_count": 99,
   "metadata": {},
   "outputs": [],
   "source": [
    "num_boost_round = tuned_model.best_iteration +1\n",
    "\n",
    "cv_result = xgb.cv(xgb_params, xg_train, num_boost_round=num_boost_round, nfold=5, \n",
    "                   seed=2333, metrics=['error', 'logloss'])"
   ]
  },
  {
   "cell_type": "code",
   "execution_count": 96,
   "metadata": {},
   "outputs": [
    {
     "data": {
      "text/plain": [
       "158"
      ]
     },
     "execution_count": 96,
     "metadata": {},
     "output_type": "execute_result"
    }
   ],
   "source": [
    "num_boost_round"
   ]
  },
  {
   "cell_type": "markdown",
   "metadata": {},
   "source": [
    "## Plot Analysis"
   ]
  },
  {
   "cell_type": "markdown",
   "metadata": {},
   "source": [
    "### Feature Importance Plot"
   ]
  },
  {
   "cell_type": "code",
   "execution_count": 100,
   "metadata": {},
   "outputs": [
    {
     "data": {
      "text/plain": [
       "<function matplotlib.pyplot.show>"
      ]
     },
     "execution_count": 100,
     "metadata": {},
     "output_type": "execute_result"
    },
    {
     "data": {
      "image/png": "[encoded data removed]",
      "text/plain": [
       "<matplotlib.figure.Figure at 0x1a20d4ee48>"
      ]
     },
     "metadata": {},
     "output_type": "display_data"
    }
   ],
   "source": [
    "plot_importance(tuned_model,max_num_features=15)\n",
    "pyplot.show"
   ]
  },
  {
   "cell_type": "markdown",
   "metadata": {},
   "source": [
    "### Performance Plot"
   ]
  },
  {
   "cell_type": "code",
   "execution_count": 101,
   "metadata": {},
   "outputs": [],
   "source": [
    "epochs = len(cv_result['test-logloss-mean'])\n",
    "x_axis = range(0, epochs)"
   ]
  },
  {
   "cell_type": "code",
   "execution_count": 102,
   "metadata": {},
   "outputs": [
    {
     "data": {
      "image/png": "[encoded data removed]",
      "text/plain": [
       "<matplotlib.figure.Figure at 0x1a228d7978>"
      ]
     },
     "metadata": {},
     "output_type": "display_data"
    }
   ],
   "source": [
    "fig, ax = pyplot.subplots()\n",
    "ax.plot(x_axis, cv_result['train-logloss-mean'], label='Train')\n",
    "ax.plot(x_axis, cv_result['test-logloss-mean'], label='Test')\n",
    "ax.legend()\n",
    "pyplot.ylabel('Log Loss')\n",
    "pyplot.title('XGBoost Log Loss')\n",
    "pyplot.show()"
   ]
  },
  {
   "cell_type": "code",
   "execution_count": 103,
   "metadata": {
    "scrolled": true
   },
   "outputs": [
    {
     "data": {
      "image/png": "[encoded data removed]",
      "text/plain": [
       "<matplotlib.figure.Figure at 0x1a20f66198>"
      ]
     },
     "metadata": {},
     "output_type": "display_data"
    }
   ],
   "source": [
    "fig, ax = pyplot.subplots()\n",
    "ax.plot(x_axis, cv_result['train-error-mean'], label='Train')\n",
    "ax.plot(x_axis, cv_result['test-error-mean'], label='Test')\n",
    "ax.legend()\n",
    "pyplot.ylabel('Classification Error')\n",
    "pyplot.title('XGBoost Classification Error')\n",
    "pyplot.show()"
   ]
  },
  {
   "cell_type": "markdown",
   "metadata": {},
   "source": [
    "## Accuracy Score Analysis"
   ]
  },
  {
   "cell_type": "markdown",
   "metadata": {},
   "source": [
    "### General Performance Score"
   ]
  },
  {
   "cell_type": "code",
   "execution_count": 31,
   "metadata": {},
   "outputs": [
    {
     "name": "stdout",
     "output_type": "stream",
     "text": [
      "655\n"
     ]
    }
   ],
   "source": [
    "# prob predict\n",
    "y_pred = tuned_model.predict(xg_test)\n",
    "print(len(y_pred))"
   ]
  },
  {
   "cell_type": "code",
   "execution_count": 37,
   "metadata": {},
   "outputs": [
    {
     "data": {
      "text/plain": [
       "[1, 0, 1, 0, 1, 1, 1, 0, 1]"
      ]
     },
     "execution_count": 37,
     "metadata": {},
     "output_type": "execute_result"
    }
   ],
   "source": [
    "# Classification prediction\n",
    "y_pred_class = []\n",
    "for i in range(len(y_pred)):\n",
    "    if y_pred[i]>0.5:\n",
    "        y_pred_class.append(1)\n",
    "    elif y_pred[i]<=0.5:\n",
    "        y_pred_class.append(0)\n",
    "y_pred_class[1:10]    "
   ]
  },
  {
   "cell_type": "code",
   "execution_count": 39,
   "metadata": {},
   "outputs": [
    {
     "data": {
      "text/plain": [
       "0.88854961832061063"
      ]
     },
     "execution_count": 39,
     "metadata": {},
     "output_type": "execute_result"
    }
   ],
   "source": [
    "accuracy_score(y_test,y_pred_class)"
   ]
  },
  {
   "cell_type": "code",
   "execution_count": 42,
   "metadata": {},
   "outputs": [
    {
     "name": "stdout",
     "output_type": "stream",
     "text": [
      "             precision    recall  f1-score   support\n",
      "\n",
      "     female       0.75      0.88      0.81       173\n",
      "       male       0.95      0.89      0.92       482\n",
      "\n",
      "avg / total       0.90      0.89      0.89       655\n",
      "\n"
     ]
    }
   ],
   "source": [
    "print(classification_report(y_test,y_pred_class,target_names=[\"female\",\"male\"]))"
   ]
  },
  {
   "cell_type": "markdown",
   "metadata": {},
   "source": [
    "### Threshold Performance Measures"
   ]
  },
  {
   "cell_type": "code",
   "execution_count": 43,
   "metadata": {},
   "outputs": [
    {
     "name": "stdout",
     "output_type": "stream",
     "text": [
      "655\n"
     ]
    },
    {
     "data": {
      "text/html": [
       "<div>\n",
       "<style scoped>\n",
       "    .dataframe tbody tr th:only-of-type {\n",
       "        vertical-align: middle;\n",
       "    }\n",
       "\n",
       "    .dataframe tbody tr th {\n",
       "        vertical-align: top;\n",
       "    }\n",
       "\n",
       "    .dataframe thead th {\n",
       "        text-align: right;\n",
       "    }\n",
       "</style>\n",
       "<table border=\"1\" class=\"dataframe\">\n",
       "  <thead>\n",
       "    <tr style=\"text-align: right;\">\n",
       "      <th>Predicted</th>\n",
       "      <th>0</th>\n",
       "      <th>1</th>\n",
       "    </tr>\n",
       "    <tr>\n",
       "      <th>Actual</th>\n",
       "      <th></th>\n",
       "      <th></th>\n",
       "    </tr>\n",
       "  </thead>\n",
       "  <tbody>\n",
       "    <tr>\n",
       "      <th>0</th>\n",
       "      <td>152</td>\n",
       "      <td>21</td>\n",
       "    </tr>\n",
       "    <tr>\n",
       "      <th>1</th>\n",
       "      <td>52</td>\n",
       "      <td>430</td>\n",
       "    </tr>\n",
       "  </tbody>\n",
       "</table>\n",
       "</div>"
      ],
      "text/plain": [
       "Predicted    0    1\n",
       "Actual             \n",
       "0          152   21\n",
       "1           52  430"
      ]
     },
     "execution_count": 43,
     "metadata": {},
     "output_type": "execute_result"
    }
   ],
   "source": [
    "bi_pred = []\n",
    "filter_test = []\n",
    "for i in range(len(y_pred)):\n",
    "    if y_pred[i] > 0.5:\n",
    "        bi_pred.append(1)\n",
    "        filter_test.append(y_test.iloc[i])\n",
    "    elif y_pred[i] <= 0.5:\n",
    "        bi_pred.append(0)\n",
    "        filter_test.append(y_test.iloc[i])\n",
    "\n",
    "series_pred = pd.Series(bi_pred)\n",
    "series_test = pd.Series(filter_test)\n",
    "print(len(series_pred))\n",
    "result = pd.crosstab(series_test, series_pred, rownames=[\"Actual\"], colnames=[\"Predicted\"])\n",
    "result"
   ]
  },
  {
   "cell_type": "code",
   "execution_count": null,
   "metadata": {},
   "outputs": [],
   "source": []
  },
  {
   "cell_type": "markdown",
   "metadata": {},
   "source": [
    "# Probability of Being Male Analysis"
   ]
  },
  {
   "cell_type": "markdown",
   "metadata": {},
   "source": [
    "## Import and Predict un-predicted observations"
   ]
  },
  {
   "cell_type": "code",
   "execution_count": 74,
   "metadata": {},
   "outputs": [
    {
     "data": {
      "text/html": [
       "<div>\n",
       "<style scoped>\n",
       "    .dataframe tbody tr th:only-of-type {\n",
       "        vertical-align: middle;\n",
       "    }\n",
       "\n",
       "    .dataframe tbody tr th {\n",
       "        vertical-align: top;\n",
       "    }\n",
       "\n",
       "    .dataframe thead th {\n",
       "        text-align: right;\n",
       "    }\n",
       "</style>\n",
       "<table border=\"1\" class=\"dataframe\">\n",
       "  <thead>\n",
       "    <tr style=\"text-align: right;\">\n",
       "      <th></th>\n",
       "      <th>Unnamed: 0</th>\n",
       "      <th>filename</th>\n",
       "      <th>lawyer_male</th>\n",
       "      <th>percent</th>\n",
       "      <th>max</th>\n",
       "      <th>min</th>\n",
       "      <th>mean</th>\n",
       "      <th>median</th>\n",
       "      <th>stdev</th>\n",
       "      <th>min_in</th>\n",
       "      <th>...</th>\n",
       "      <th>q91</th>\n",
       "      <th>q92</th>\n",
       "      <th>q93</th>\n",
       "      <th>q94</th>\n",
       "      <th>q95</th>\n",
       "      <th>q96</th>\n",
       "      <th>q97</th>\n",
       "      <th>q98</th>\n",
       "      <th>q99</th>\n",
       "      <th>q100</th>\n",
       "    </tr>\n",
       "  </thead>\n",
       "  <tbody>\n",
       "    <tr>\n",
       "      <th>0</th>\n",
       "      <td>1</td>\n",
       "      <td>120222015200547280299</td>\n",
       "      <td>1</td>\n",
       "      <td>0.0</td>\n",
       "      <td>258.11872</td>\n",
       "      <td>105.42314</td>\n",
       "      <td>130.2302</td>\n",
       "      <td>124.03377</td>\n",
       "      <td>29.27223</td>\n",
       "      <td>21.75107</td>\n",
       "      <td>...</td>\n",
       "      <td>136.41411</td>\n",
       "      <td>137.44948</td>\n",
       "      <td>139.11002</td>\n",
       "      <td>150.97418</td>\n",
       "      <td>233.89897</td>\n",
       "      <td>242.42514</td>\n",
       "      <td>253.86877</td>\n",
       "      <td>255.11467</td>\n",
       "      <td>255.86677</td>\n",
       "      <td>259.05867</td>\n",
       "    </tr>\n",
       "    <tr>\n",
       "      <th>1</th>\n",
       "      <td>2</td>\n",
       "      <td>12022237318030335018</td>\n",
       "      <td>1</td>\n",
       "      <td>0.0</td>\n",
       "      <td>341.0521</td>\n",
       "      <td>174.30794</td>\n",
       "      <td>229.27221</td>\n",
       "      <td>222.32459</td>\n",
       "      <td>36.14343</td>\n",
       "      <td>28.10591</td>\n",
       "      <td>...</td>\n",
       "      <td>283.20606</td>\n",
       "      <td>284.65229</td>\n",
       "      <td>285.03504</td>\n",
       "      <td>285.14059</td>\n",
       "      <td>294.86228</td>\n",
       "      <td>306.1213</td>\n",
       "      <td>311.62433</td>\n",
       "      <td>318.55998</td>\n",
       "      <td>327.6212</td>\n",
       "      <td>344.57995</td>\n",
       "    </tr>\n",
       "    <tr>\n",
       "      <th>2</th>\n",
       "      <td>3</td>\n",
       "      <td>12022237340030114014</td>\n",
       "      <td>1</td>\n",
       "      <td>0.0</td>\n",
       "      <td>190.87783</td>\n",
       "      <td>81.00901</td>\n",
       "      <td>111.19673</td>\n",
       "      <td>108.17011</td>\n",
       "      <td>21.815</td>\n",
       "      <td>28.75928</td>\n",
       "      <td>...</td>\n",
       "      <td>139.80518</td>\n",
       "      <td>141.01955</td>\n",
       "      <td>146.64117</td>\n",
       "      <td>148.4232</td>\n",
       "      <td>150.16875</td>\n",
       "      <td>159.46629</td>\n",
       "      <td>173.48027</td>\n",
       "      <td>175.95107</td>\n",
       "      <td>182.00563</td>\n",
       "      <td>193.21693</td>\n",
       "    </tr>\n",
       "    <tr>\n",
       "      <th>3</th>\n",
       "      <td>4</td>\n",
       "      <td>12022237343030224016</td>\n",
       "      <td>1</td>\n",
       "      <td>0.0</td>\n",
       "      <td>133.90526</td>\n",
       "      <td>89.74382</td>\n",
       "      <td>108.61958</td>\n",
       "      <td>105.47788</td>\n",
       "      <td>11.86239</td>\n",
       "      <td>19.00371</td>\n",
       "      <td>...</td>\n",
       "      <td>128.21476</td>\n",
       "      <td>129.12292</td>\n",
       "      <td>130.28582</td>\n",
       "      <td>131.14202</td>\n",
       "      <td>131.73361</td>\n",
       "      <td>132.17219</td>\n",
       "      <td>132.43985</td>\n",
       "      <td>132.61862</td>\n",
       "      <td>132.68908</td>\n",
       "      <td>134.46538</td>\n",
       "    </tr>\n",
       "    <tr>\n",
       "      <th>4</th>\n",
       "      <td>5</td>\n",
       "      <td>12022237352030003012</td>\n",
       "      <td>1</td>\n",
       "      <td>0.0</td>\n",
       "      <td>244.77814</td>\n",
       "      <td>51.16954</td>\n",
       "      <td>103.40267</td>\n",
       "      <td>97.34576</td>\n",
       "      <td>23.43879</td>\n",
       "      <td>21.67640</td>\n",
       "      <td>...</td>\n",
       "      <td>128.58647</td>\n",
       "      <td>130.42046</td>\n",
       "      <td>131.86908</td>\n",
       "      <td>132.25946</td>\n",
       "      <td>132.85974</td>\n",
       "      <td>133.49579</td>\n",
       "      <td>133.96456</td>\n",
       "      <td>160.30325</td>\n",
       "      <td>244.39978</td>\n",
       "      <td>244.78109</td>\n",
       "    </tr>\n",
       "  </tbody>\n",
       "</table>\n",
       "<p>5 rows × 110 columns</p>\n",
       "</div>"
      ],
      "text/plain": [
       "   Unnamed: 0               filename  lawyer_male  percent        max  \\\n",
       "0           1  120222015200547280299            1      0.0  258.11872   \n",
       "1           2   12022237318030335018            1      0.0   341.0521   \n",
       "2           3   12022237340030114014            1      0.0  190.87783   \n",
       "3           4   12022237343030224016            1      0.0  133.90526   \n",
       "4           5   12022237352030003012            1      0.0  244.77814   \n",
       "\n",
       "         min       mean     median     stdev    min_in    ...            q91  \\\n",
       "0  105.42314   130.2302  124.03377  29.27223  21.75107    ...      136.41411   \n",
       "1  174.30794  229.27221  222.32459  36.14343  28.10591    ...      283.20606   \n",
       "2   81.00901  111.19673  108.17011    21.815  28.75928    ...      139.80518   \n",
       "3   89.74382  108.61958  105.47788  11.86239  19.00371    ...      128.21476   \n",
       "4   51.16954  103.40267   97.34576  23.43879  21.67640    ...      128.58647   \n",
       "\n",
       "         q92        q93        q94        q95        q96        q97  \\\n",
       "0  137.44948  139.11002  150.97418  233.89897  242.42514  253.86877   \n",
       "1  284.65229  285.03504  285.14059  294.86228   306.1213  311.62433   \n",
       "2  141.01955  146.64117   148.4232  150.16875  159.46629  173.48027   \n",
       "3  129.12292  130.28582  131.14202  131.73361  132.17219  132.43985   \n",
       "4  130.42046  131.86908  132.25946  132.85974  133.49579  133.96456   \n",
       "\n",
       "         q98        q99       q100  \n",
       "0  255.11467  255.86677  259.05867  \n",
       "1  318.55998   327.6212  344.57995  \n",
       "2  175.95107  182.00563  193.21693  \n",
       "3  132.61862  132.68908  134.46538  \n",
       "4  160.30325  244.39978  244.78109  \n",
       "\n",
       "[5 rows x 110 columns]"
      ]
     },
     "execution_count": 74,
     "metadata": {},
     "output_type": "execute_result"
    }
   ],
   "source": [
    "data = pd.read_csv(\"ML_dataset_0930.csv\")\n",
    "data.head()"
   ]
  },
  {
   "cell_type": "code",
   "execution_count": null,
   "metadata": {},
   "outputs": [],
   "source": []
  },
  {
   "cell_type": "code",
   "execution_count": null,
   "metadata": {},
   "outputs": [],
   "source": []
  },
  {
   "cell_type": "code",
   "execution_count": 46,
   "metadata": {},
   "outputs": [],
   "source": [
    "# select and predict the un-predicted observations\n",
    "unpredict_obs = xgb.DMatrix(X_test,label=y_test)\n",
    "prob_male_pred = tuned_model.predict(unpredict_obs)"
   ]
  },
  {
   "cell_type": "code",
   "execution_count": 71,
   "metadata": {},
   "outputs": [],
   "source": [
    "\n",
    "result_dic = {\"gender\":y_test,\"prob_male\":prob_male_pred}\n",
    "prob_df = pd.DataFrame.from_dict(result_dic)"
   ]
  },
  {
   "cell_type": "code",
   "execution_count": null,
   "metadata": {},
   "outputs": [],
   "source": []
  },
  {
   "cell_type": "code",
   "execution_count": null,
   "metadata": {},
   "outputs": [],
   "source": []
  },
  {
   "cell_type": "code",
   "execution_count": null,
   "metadata": {},
   "outputs": [],
   "source": []
  },
  {
   "cell_type": "code",
   "execution_count": null,
   "metadata": {},
   "outputs": [],
   "source": []
  }
 ],
 "metadata": {
  "kernelspec": {
   "display_name": "Python 3",
   "language": "python",
   "name": "python3"
  },
  "language_info": {
   "codemirror_mode": {
    "name": "ipython",
    "version": 3
   },
   "file_extension": ".py",
   "mimetype": "text/x-python",
   "name": "python",
   "nbconvert_exporter": "python",
   "pygments_lexer": "ipython3",
   "version": "3.6.4"
  }
 },
 "nbformat": 4,
 "nbformat_minor": 2
}
